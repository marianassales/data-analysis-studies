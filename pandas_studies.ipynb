{
 "cells": [
  {
   "cell_type": "markdown",
   "metadata": {},
   "source": [
    "# PANDAS "
   ]
  },
  {
   "cell_type": "code",
   "execution_count": 3,
   "metadata": {},
   "outputs": [],
   "source": [
    "# Series = (one dimensional array)\n",
    "# DataFrame = (two dimensional arrays)"
   ]
  },
  {
   "cell_type": "markdown",
   "metadata": {},
   "source": [
    "## Loading Data into Pandas"
   ]
  },
  {
   "cell_type": "code",
   "execution_count": 1,
   "metadata": {},
   "outputs": [],
   "source": [
    "import pandas as pd\n",
    "\n",
    "df = pd.read_csv('name of the file .csv') \n",
    "\n",
    "# Maybe you need to use this to open the file\n",
    "# (sep=';', engine='python') "
   ]
  },
  {
   "cell_type": "code",
   "execution_count": null,
   "metadata": {},
   "outputs": [],
   "source": [
    "# To display all rows\n",
    "pd.set_option('display.max_rows', None)"
   ]
  },
  {
   "cell_type": "markdown",
   "metadata": {},
   "source": [
    "## Select Data in Pandas "
   ]
  },
  {
   "cell_type": "code",
   "execution_count": null,
   "metadata": {},
   "outputs": [],
   "source": [
    "## Visualizando o data frame\n",
    "\n",
    "df.head()  # o default é 5\n",
    "df.tail()  \n",
    "df.sample(5)\n",
    "\n",
    "## Read Headers\n",
    "df.columns\n",
    "\n",
    "## Read each column \n",
    "df.['name'][0:5] # name of the column # you can use indexes\n",
    "\n",
    "## Read each row\n",
    "df.iloc[0:4]\n",
    "\n",
    "df.loc[df['name'] == \"example\"]  \n",
    "\n",
    "## Read a specific location (row, column)\n",
    "df.iloc[2,1]\n",
    "\n",
    "## Check if there is any NaN in columns\n",
    "df.isna().any()"
   ]
  },
  {
   "cell_type": "markdown",
   "metadata": {},
   "source": [
    "## .loc (localization) and .iloc (index localization)\n",
    "\n",
    "Como .loc e .iloc são maneiras de **acessar** os dados do dataframe ele é seguido de **[ ]** em vez de ()."
   ]
  },
  {
   "cell_type": "markdown",
   "metadata": {},
   "source": [
    ".loc\n",
    "\n",
    "* usa o index para localizar a posição que estamos tentando acessar.\n",
    "* a primeira posição é o index ou array de indexes para acessar as localizações (linhas)\n",
    "* a segunda posição é a coluna ou a lista de colunas desejamos ver/alterar\n",
    "\n",
    ".iloc\n",
    "\n",
    "* cria uma interface de indexação numérica (de zero até tamanho do dataframe) para acessar as posições.\n",
    "* a primeira posição é o index ou array de indexes para acessar as localizações (linhas)\n",
    "* a segunda posição é o index das colunas que desejamos ver"
   ]
  },
  {
   "cell_type": "code",
   "execution_count": null,
   "metadata": {},
   "outputs": [],
   "source": [
    "df.loc[df[:10], 'valores'] = 10\n",
    "df"
   ]
  },
  {
   "cell_type": "code",
   "execution_count": null,
   "metadata": {},
   "outputs": [],
   "source": [
    "df.loc['2018-10-05', 'taxas']"
   ]
  },
  {
   "cell_type": "markdown",
   "metadata": {},
   "source": [
    "## Sorting/Describing Data"
   ]
  },
  {
   "cell_type": "code",
   "execution_count": null,
   "metadata": {},
   "outputs": [],
   "source": [
    "## Count distict values\n",
    "df['column name'].nunique()\n",
    "\n",
    "## Count only non-null values for each column or row\n",
    "df['column name'].count()\n",
    "\n",
    "## Count total values including null values\n",
    "df['column name'].size\n",
    "\n",
    "## Edit count to add condition\n",
    "df.loc[df['column name']=='A','hID'].agg(['nunique','count','size'])\n",
    "\n",
    "# Count of occurences of each of the unique values in this column\n",
    "df['column name'].value_counts() \n",
    "\n"
   ]
  },
  {
   "cell_type": "code",
   "execution_count": null,
   "metadata": {},
   "outputs": [],
   "source": [
    "# basic statistical details like percentile, mean, etc... of a data frame or a series of numeric values\n",
    "df.describe() \n",
    "\n",
    "# Sort by the values along either axis\n",
    "df.sort_values('name', ascending=False) "
   ]
  },
  {
   "cell_type": "markdown",
   "metadata": {},
   "source": [
    "## Making changes to the data frame"
   ]
  },
  {
   "cell_type": "code",
   "execution_count": null,
   "metadata": {},
   "outputs": [],
   "source": [
    "# adding a column\n",
    "df['total'] = df['column1'] + df['column2'] # 'total' which is a sum of columns 1 e 2\n",
    "df['total'] = df.iloc[ : ,4:10].sum(axis=1) # axis=1 somar as colunas"
   ]
  },
  {
   "cell_type": "markdown",
   "metadata": {},
   "source": [
    "### Rename"
   ]
  },
  {
   "cell_type": "code",
   "execution_count": null,
   "metadata": {},
   "outputs": [],
   "source": [
    "# Rename column\n",
    "df.rename(columns = {'column_name':'column_new_name'}, inplace = True) \n",
    "\n",
    "# Rename values in a column\n",
    "df[\"column1\"].replace({\"a\": \"x\", \"b\": \"y\"}, inplace=True)"
   ]
  },
  {
   "cell_type": "code",
   "execution_count": null,
   "metadata": {},
   "outputs": [],
   "source": []
  },
  {
   "cell_type": "markdown",
   "metadata": {},
   "source": [
    "### Drop"
   ]
  },
  {
   "cell_type": "code",
   "execution_count": null,
   "metadata": {},
   "outputs": [],
   "source": [
    "## Drop columns\n",
    "df.drop(columns=df.columns[0])  \n",
    "df.drop(columns=df.columns['name'])  \n",
    "\n",
    "## Drop rows\n",
    "df.drop(index=df.index[1])\n",
    "\n",
    "## Drop rows with at least one NA value\n",
    "df.dropna()\n",
    "\n",
    "## Drop columns with at least one NA value\n",
    "df.dropna(axis=1)\n",
    "\n",
    "# Drop.duplicates() tem 3 argumentos:\n",
    "df.drop_duplicates() \n",
    "'''keep: 'first', 'last', False (default='first')\n",
    "subset: coluna ou lista de colunas (default='None')\n",
    "inplace: False (default='False')'''\n",
    "\n",
    "# Drop values in a row \n",
    "# For label-based deletion, set the index first on the dataframe:\n",
    "df = df.set_index(\"columnname\")\n",
    "df = df.drop(\"value in the column you want delete\", axis=0). # axis=0 rows\n",
    "df.reset_index()\n",
    "\n",
    "# without drop\n",
    "df = df[df.columnname != 'value to drop']"
   ]
  },
  {
   "cell_type": "markdown",
   "metadata": {},
   "source": [
    "## Saving new .csv"
   ]
  },
  {
   "cell_type": "code",
   "execution_count": null,
   "metadata": {},
   "outputs": [],
   "source": [
    "df.to_csv('modified.csv', index=False) # remove indexes "
   ]
  },
  {
   "cell_type": "markdown",
   "metadata": {},
   "source": [
    "## Filtering Data\n",
    "\n",
    " and &\n",
    " \n",
    " or |\n",
    " \n",
    " not ~\n",
    " \n",
    " is ==\n",
    " \n",
    " not is !="
   ]
  },
  {
   "cell_type": "code",
   "execution_count": null,
   "metadata": {},
   "outputs": [],
   "source": [
    "df.loc[df['name'] == 'Mariana']\n",
    "df.loc[(df['name'] == 'Mariana') & (df['age'] > 18)\n",
    "\n"
   ]
  },
  {
   "cell_type": "code",
   "execution_count": null,
   "metadata": {},
   "outputs": [],
   "source": [
    "## Specific word\n",
    "df.loc[df['name'].str.contains('Specific word')] # you can use ~ to negative\n",
    "\n",
    "## Regular Expression\n",
    "import re\n",
    "df.loc[df['name'].str.contains('Specific word|other specific', regex=True)] \n"
   ]
  },
  {
   "cell_type": "markdown",
   "metadata": {},
   "source": [
    "## Using masks to filter data"
   ]
  },
  {
   "cell_type": "code",
   "execution_count": null,
   "metadata": {},
   "outputs": [],
   "source": [
    "mask = df['age'] > 18\n",
    "df[mask]  \n",
    "\n",
    "mask2 = df['ex'].mean() + df['ex'].std()\n",
    "mask3 = df['ex'] > mask2\n",
    "df[mask3]"
   ]
  },
  {
   "cell_type": "markdown",
   "metadata": {},
   "source": [
    "## Crossing information between dataframes"
   ]
  },
  {
   "cell_type": "code",
   "execution_count": null,
   "metadata": {},
   "outputs": [],
   "source": [
    "## df1 and df2 \n",
    "df1.merge(df2, left_on='', right_on='Bs')"
   ]
  },
  {
   "cell_type": "markdown",
   "metadata": {},
   "source": [
    "## Conditional Changes"
   ]
  },
  {
   "cell_type": "code",
   "execution_count": null,
   "metadata": {},
   "outputs": [],
   "source": [
    "df.loc[df['type1']] == 'fire', 'Type1'] = 'Flamer'\n",
    "\n",
    "df.loc[df['type1']] == 'fire', 'column2'] = True\n",
    "\n",
    "df.loc[df['total'] > 10, ['column2', 'column3']] = 'New Value'"
   ]
  },
  {
   "cell_type": "markdown",
   "metadata": {},
   "source": [
    "## Aggregate Statistics (Groupby)"
   ]
  },
  {
   "cell_type": "code",
   "execution_count": null,
   "metadata": {},
   "outputs": [],
   "source": [
    "df.groupby(['type1']).mean()\n",
    "df.groupby(['type1']).mean().sort_values('column2', ascending=False)\n"
   ]
  }
 ],
 "metadata": {
  "kernelspec": {
   "display_name": "Python 3",
   "language": "python",
   "name": "python3"
  },
  "language_info": {
   "codemirror_mode": {
    "name": "ipython",
    "version": 3
   },
   "file_extension": ".py",
   "mimetype": "text/x-python",
   "name": "python",
   "nbconvert_exporter": "python",
   "pygments_lexer": "ipython3",
   "version": "3.7.4"
  }
 },
 "nbformat": 4,
 "nbformat_minor": 2
}
